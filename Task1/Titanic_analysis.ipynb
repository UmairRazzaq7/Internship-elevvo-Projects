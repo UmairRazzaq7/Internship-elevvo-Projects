{
 "cells": [
  {
   "cell_type": "markdown",
   "id": "f92d4464-02f3-42f8-9446-9acf31b1b7d1",
   "metadata": {},
   "source": [
    "#              **Titanic Dataset Analysis**"
   ]
  },
  {
   "cell_type": "markdown",
   "id": "cffa1ca0-e6eb-4b86-9fc4-211970f727b9",
   "metadata": {},
   "source": [
    "### Import libraries"
   ]
  },
  {
   "cell_type": "code",
   "execution_count": null,
   "id": "8471021c-bb17-47ba-befc-97bbb7a36a89",
   "metadata": {},
   "outputs": [],
   "source": [
    "import pandas as pd\n",
    "import matplotlib.pyplot as plt\n",
    "import seaborn as sns\n"
   ]
  },
  {
   "cell_type": "markdown",
   "id": "0400857f-3fd5-48f9-b95d-d5727c9d453c",
   "metadata": {},
   "source": [
    "### Load Dataset"
   ]
  },
  {
   "cell_type": "code",
   "execution_count": 7,
   "id": "b299d851-3ac5-4a71-bf74-8923e7da6735",
   "metadata": {},
   "outputs": [
    {
     "data": {
      "text/html": [
       "<div>\n",
       "<style scoped>\n",
       "    .dataframe tbody tr th:only-of-type {\n",
       "        vertical-align: middle;\n",
       "    }\n",
       "\n",
       "    .dataframe tbody tr th {\n",
       "        vertical-align: top;\n",
       "    }\n",
       "\n",
       "    .dataframe thead th {\n",
       "        text-align: right;\n",
       "    }\n",
       "</style>\n",
       "<table border=\"1\" class=\"dataframe\">\n",
       "  <thead>\n",
       "    <tr style=\"text-align: right;\">\n",
       "      <th></th>\n",
       "      <th>PassengerId</th>\n",
       "      <th>Survived</th>\n",
       "      <th>Pclass</th>\n",
       "      <th>Name</th>\n",
       "      <th>Sex</th>\n",
       "      <th>Age</th>\n",
       "      <th>SibSp</th>\n",
       "      <th>Parch</th>\n",
       "      <th>Ticket</th>\n",
       "      <th>Fare</th>\n",
       "      <th>Cabin</th>\n",
       "      <th>Embarked</th>\n",
       "    </tr>\n",
       "  </thead>\n",
       "  <tbody>\n",
       "    <tr>\n",
       "      <th>0</th>\n",
       "      <td>1</td>\n",
       "      <td>0</td>\n",
       "      <td>3</td>\n",
       "      <td>Braund, Mr. Owen Harris</td>\n",
       "      <td>male</td>\n",
       "      <td>22.0</td>\n",
       "      <td>1</td>\n",
       "      <td>0</td>\n",
       "      <td>A/5 21171</td>\n",
       "      <td>7.2500</td>\n",
       "      <td>NaN</td>\n",
       "      <td>S</td>\n",
       "    </tr>\n",
       "    <tr>\n",
       "      <th>1</th>\n",
       "      <td>2</td>\n",
       "      <td>1</td>\n",
       "      <td>1</td>\n",
       "      <td>Cumings, Mrs. John Bradley (Florence Briggs Th...</td>\n",
       "      <td>female</td>\n",
       "      <td>38.0</td>\n",
       "      <td>1</td>\n",
       "      <td>0</td>\n",
       "      <td>PC 17599</td>\n",
       "      <td>71.2833</td>\n",
       "      <td>C85</td>\n",
       "      <td>C</td>\n",
       "    </tr>\n",
       "    <tr>\n",
       "      <th>2</th>\n",
       "      <td>3</td>\n",
       "      <td>1</td>\n",
       "      <td>3</td>\n",
       "      <td>Heikkinen, Miss. Laina</td>\n",
       "      <td>female</td>\n",
       "      <td>26.0</td>\n",
       "      <td>0</td>\n",
       "      <td>0</td>\n",
       "      <td>STON/O2. 3101282</td>\n",
       "      <td>7.9250</td>\n",
       "      <td>NaN</td>\n",
       "      <td>S</td>\n",
       "    </tr>\n",
       "    <tr>\n",
       "      <th>3</th>\n",
       "      <td>4</td>\n",
       "      <td>1</td>\n",
       "      <td>1</td>\n",
       "      <td>Futrelle, Mrs. Jacques Heath (Lily May Peel)</td>\n",
       "      <td>female</td>\n",
       "      <td>35.0</td>\n",
       "      <td>1</td>\n",
       "      <td>0</td>\n",
       "      <td>113803</td>\n",
       "      <td>53.1000</td>\n",
       "      <td>C123</td>\n",
       "      <td>S</td>\n",
       "    </tr>\n",
       "    <tr>\n",
       "      <th>4</th>\n",
       "      <td>5</td>\n",
       "      <td>0</td>\n",
       "      <td>3</td>\n",
       "      <td>Allen, Mr. William Henry</td>\n",
       "      <td>male</td>\n",
       "      <td>35.0</td>\n",
       "      <td>0</td>\n",
       "      <td>0</td>\n",
       "      <td>373450</td>\n",
       "      <td>8.0500</td>\n",
       "      <td>NaN</td>\n",
       "      <td>S</td>\n",
       "    </tr>\n",
       "  </tbody>\n",
       "</table>\n",
       "</div>"
      ],
      "text/plain": [
       "   PassengerId  Survived  Pclass  \\\n",
       "0            1         0       3   \n",
       "1            2         1       1   \n",
       "2            3         1       3   \n",
       "3            4         1       1   \n",
       "4            5         0       3   \n",
       "\n",
       "                                                Name     Sex   Age  SibSp  \\\n",
       "0                            Braund, Mr. Owen Harris    male  22.0      1   \n",
       "1  Cumings, Mrs. John Bradley (Florence Briggs Th...  female  38.0      1   \n",
       "2                             Heikkinen, Miss. Laina  female  26.0      0   \n",
       "3       Futrelle, Mrs. Jacques Heath (Lily May Peel)  female  35.0      1   \n",
       "4                           Allen, Mr. William Henry    male  35.0      0   \n",
       "\n",
       "   Parch            Ticket     Fare Cabin Embarked  \n",
       "0      0         A/5 21171   7.2500   NaN        S  \n",
       "1      0          PC 17599  71.2833   C85        C  \n",
       "2      0  STON/O2. 3101282   7.9250   NaN        S  \n",
       "3      0            113803  53.1000  C123        S  \n",
       "4      0            373450   8.0500   NaN        S  "
      ]
     },
     "execution_count": 7,
     "metadata": {},
     "output_type": "execute_result"
    }
   ],
   "source": [
    "df = pd.read_csv(\"Titanic-Dataset.csv\")\n",
    "df.head()"
   ]
  },
  {
   "cell_type": "code",
   "execution_count": 8,
   "id": "af1eeca9-079a-458d-85a7-f94b4b25dfb3",
   "metadata": {},
   "outputs": [
    {
     "data": {
      "text/plain": [
       "(891, 12)"
      ]
     },
     "execution_count": 8,
     "metadata": {},
     "output_type": "execute_result"
    }
   ],
   "source": [
    "df.shape"
   ]
  },
  {
   "cell_type": "code",
   "execution_count": 9,
   "id": "2851f09b-a609-48fd-8bed-0cd98ec3b9e8",
   "metadata": {},
   "outputs": [
    {
     "name": "stdout",
     "output_type": "stream",
     "text": [
      "<class 'pandas.core.frame.DataFrame'>\n",
      "RangeIndex: 891 entries, 0 to 890\n",
      "Data columns (total 12 columns):\n",
      " #   Column       Non-Null Count  Dtype  \n",
      "---  ------       --------------  -----  \n",
      " 0   PassengerId  891 non-null    int64  \n",
      " 1   Survived     891 non-null    int64  \n",
      " 2   Pclass       891 non-null    int64  \n",
      " 3   Name         891 non-null    object \n",
      " 4   Sex          891 non-null    object \n",
      " 5   Age          714 non-null    float64\n",
      " 6   SibSp        891 non-null    int64  \n",
      " 7   Parch        891 non-null    int64  \n",
      " 8   Ticket       891 non-null    object \n",
      " 9   Fare         891 non-null    float64\n",
      " 10  Cabin        204 non-null    object \n",
      " 11  Embarked     889 non-null    object \n",
      "dtypes: float64(2), int64(5), object(5)\n",
      "memory usage: 83.7+ KB\n"
     ]
    }
   ],
   "source": [
    "df.info()"
   ]
  },
  {
   "cell_type": "code",
   "execution_count": 11,
   "id": "68058e85-95a5-40e2-920f-eef7169f4383",
   "metadata": {},
   "outputs": [
    {
     "data": {
      "text/plain": [
       "PassengerId      0\n",
       "Survived         0\n",
       "Pclass           0\n",
       "Name             0\n",
       "Sex              0\n",
       "Age            177\n",
       "SibSp            0\n",
       "Parch            0\n",
       "Ticket           0\n",
       "Fare             0\n",
       "Cabin          687\n",
       "Embarked         2\n",
       "dtype: int64"
      ]
     },
     "execution_count": 11,
     "metadata": {},
     "output_type": "execute_result"
    }
   ],
   "source": [
    "df.isnull().sum()"
   ]
  },
  {
   "cell_type": "markdown",
   "id": "ff5f2d39-95ee-46f7-aa0e-5c3ce7ad78ca",
   "metadata": {},
   "source": [
    "### Handle missing data"
   ]
  },
  {
   "cell_type": "code",
   "execution_count": 17,
   "id": "c6281379-39e3-4dab-91bd-d9f1839ec9b3",
   "metadata": {},
   "outputs": [],
   "source": [
    "df.drop(columns='Cabin',inplace= True)"
   ]
  },
  {
   "cell_type": "code",
   "execution_count": 19,
   "id": "c3cc3a0f-a5ea-4dfa-89c0-d6038b524bce",
   "metadata": {},
   "outputs": [
    {
     "data": {
      "text/plain": [
       "Index(['PassengerId', 'Survived', 'Pclass', 'Name', 'Sex', 'Age', 'SibSp',\n",
       "       'Parch', 'Ticket', 'Fare', 'Embarked'],\n",
       "      dtype='object')"
      ]
     },
     "execution_count": 19,
     "metadata": {},
     "output_type": "execute_result"
    }
   ],
   "source": [
    "df.columns"
   ]
  },
  {
   "cell_type": "code",
   "execution_count": 25,
   "id": "a7c018b6-3ae1-4db0-94f9-3f8603876d6b",
   "metadata": {},
   "outputs": [],
   "source": [
    "df.ffill(inplace=True)"
   ]
  },
  {
   "cell_type": "code",
   "execution_count": 26,
   "id": "94209617-19fb-42d8-a630-4ae02b0de2cd",
   "metadata": {},
   "outputs": [
    {
     "data": {
      "text/plain": [
       "PassengerId    0\n",
       "Survived       0\n",
       "Pclass         0\n",
       "Name           0\n",
       "Sex            0\n",
       "Age            0\n",
       "SibSp          0\n",
       "Parch          0\n",
       "Ticket         0\n",
       "Fare           0\n",
       "Embarked       0\n",
       "dtype: int64"
      ]
     },
     "execution_count": 26,
     "metadata": {},
     "output_type": "execute_result"
    }
   ],
   "source": [
    "df.isnull().sum()"
   ]
  },
  {
   "cell_type": "markdown",
   "id": "4e0407b5-d5d6-454c-83c7-6c9800f339a8",
   "metadata": {},
   "source": [
    "## EDA & VISUALIZATION"
   ]
  },
  {
   "cell_type": "code",
   "execution_count": 91,
   "id": "5d9c3ec9-da0a-4833-b334-ee1352fadaa5",
   "metadata": {},
   "outputs": [
    {
     "data": {
      "image/png": "[encoded data removed]",
      "text/plain": [
       "<Figure size 640x480 with 1 Axes>"
      ]
     },
     "metadata": {},
     "output_type": "display_data"
    }
   ],
   "source": [
    "ax=sns.countplot(data=df,x=\"Survived\",hue='Survived',palette=['red','green'])\n",
    "for container in ax.containers:\n",
    "    ax.bar_label(container)\n",
    "plt.title('Survival Rate')\n",
    "plt.show()"
   ]
  },
  {
   "cell_type": "code",
   "execution_count": 39,
   "id": "e3909bf5-0575-4b11-93f2-1e942b9bc88b",
   "metadata": {},
   "outputs": [
    {
     "name": "stdout",
     "output_type": "stream",
     "text": [
      "342\n"
     ]
    }
   ],
   "source": [
    "Total_survived=df['Survived'].sum()\n",
    "print(Total_survived)"
   ]
  },
  {
   "cell_type": "code",
   "execution_count": 40,
   "id": "a57b3e73-1834-4c7b-b142-d4b1e42743e3",
   "metadata": {},
   "outputs": [
    {
     "name": "stdout",
     "output_type": "stream",
     "text": [
      "891\n"
     ]
    }
   ],
   "source": [
    "total_passengers=df.shape[0]\n",
    "print(total_passengers)"
   ]
  },
  {
   "cell_type": "markdown",
   "id": "4c9ee7ab-f31b-40f8-8b77-b87d0323a234",
   "metadata": {},
   "source": [
    "### Insight:\n",
    "  * Total passenger = 891\n",
    "  * Survived = 342\n",
    "  * Died = 891-342= 549"
   ]
  },
  {
   "cell_type": "code",
   "execution_count": 41,
   "id": "df40eaf9-c3e5-4b03-b55b-3c55f92d3e65",
   "metadata": {},
   "outputs": [
    {
     "name": "stdout",
     "output_type": "stream",
     "text": [
      "38.38\n"
     ]
    }
   ],
   "source": [
    "Survival_Rate = round((Total_survived/total_passengers)*100,2)\n",
    "print(Survival_Rate)"
   ]
  },
  {
   "cell_type": "code",
   "execution_count": 47,
   "id": "83589f3b-a2cc-4a3a-9fc0-a0ca8563bcb3",
   "metadata": {},
   "outputs": [
    {
     "name": "stdout",
     "output_type": "stream",
     "text": [
      "Sex\n",
      "female    74.20\n",
      "male      18.89\n",
      "Name: Survived, dtype: float64\n"
     ]
    }
   ],
   "source": [
    "Survival_rate_by_sex = round(df.groupby('Sex')['Survived'].mean()*100,2)\n",
    "print(Survival_rate_by_sex)"
   ]
  },
  {
   "cell_type": "code",
   "execution_count": 85,
   "id": "4b28e6ec-2e34-4d5d-8515-1e1e3d0eefe9",
   "metadata": {},
   "outputs": [
    {
     "data": {
      "image/png": "[encoded data removed]",
      "text/plain": [
       "<Figure size 640x480 with 1 Axes>"
      ]
     },
     "metadata": {},
     "output_type": "display_data"
    }
   ],
   "source": [
    "ax=sns.countplot(df,x='Sex',hue='Survived',palette=['Red','yellow'])\n",
    "for container in ax.containers:\n",
    "    ax.bar_label(container)\n",
    "plt.title('Survival Rate BY Sex')\n",
    "plt.show()"
   ]
  },
  {
   "cell_type": "markdown",
   "id": "6cafccdb-85a6-413e-8ab0-be8725559921",
   "metadata": {},
   "source": [
    "### Insight:\n",
    "  * Survival rate of female was high (233 females survived)\n"
   ]
  },
  {
   "cell_type": "code",
   "execution_count": 53,
   "id": "bfaec1e9-7897-4e44-ad8c-94114e475142",
   "metadata": {},
   "outputs": [
    {
     "name": "stdout",
     "output_type": "stream",
     "text": [
      "Pclass\n",
      "1    62.96\n",
      "2    47.28\n",
      "3    24.24\n",
      "Name: Survived, dtype: float64\n"
     ]
    }
   ],
   "source": [
    "survival_rate_by_Pclass = round(df.groupby('Pclass')['Survived'].mean()*100,2)\n",
    "print(survival_rate_by_Pclass)"
   ]
  },
  {
   "cell_type": "code",
   "execution_count": 87,
   "id": "527d1ccc-4fee-4202-b79e-cd07eeb1e21c",
   "metadata": {},
   "outputs": [
    {
     "data": {
      "image/png": "[encoded data removed]",
      "text/plain": [
       "<Figure size 640x480 with 1 Axes>"
      ]
     },
     "metadata": {},
     "output_type": "display_data"
    }
   ],
   "source": [
    "ax = sns.countplot(df,x='Pclass',hue='Survived',palette=['Skyblue','Green'])\n",
    "for container in ax.containers:\n",
    "    ax.bar_label(container)\n",
    "plt.title('Survival Rate By Passengers Class')\n",
    "plt.show()"
   ]
  },
  {
   "cell_type": "markdown",
   "id": "897ee856-7c43-48ea-8b1d-5ae96736a359",
   "metadata": {},
   "source": [
    "### Insight:\n",
    "  * Survival Rate was highest in 1st class passengers while it was lowest in 3rd class passengers"
   ]
  },
  {
   "cell_type": "code",
   "execution_count": 65,
   "id": "837e835f-0353-46a2-b091-856db51f831c",
   "metadata": {},
   "outputs": [
    {
     "name": "stdout",
     "output_type": "stream",
     "text": [
      "    Age    age_group\n",
      "0  22.0  Young Adult\n",
      "1  38.0        Adult\n",
      "2  26.0  Young Adult\n",
      "3  35.0  Young Adult\n",
      "4  35.0  Young Adult\n",
      "5  35.0  Young Adult\n",
      "6  54.0        Adult\n",
      "7   2.0          Kid\n",
      "8  27.0  Young Adult\n",
      "9  14.0         Teen\n"
     ]
    }
   ],
   "source": [
    "#Divide Passengers into categories on basis of age\n",
    "\n",
    "bins = [0, 12, 18, 35, 60, 100]  \n",
    "labels = ['Kid', 'Teen', 'Young Adult', 'Adult', 'Senior']\n",
    "\n",
    "df['age_group'] = pd.cut(df['Age'], bins=bins, labels=labels, right=True)\n",
    "\n",
    "# View grouped data\n",
    "print(df[['Age', 'age_group']].head(10))\n"
   ]
  },
  {
   "cell_type": "code",
   "execution_count": 66,
   "id": "fd2d25de-5257-4260-b459-4fb48a85a70b",
   "metadata": {},
   "outputs": [
    {
     "name": "stdout",
     "output_type": "stream",
     "text": [
      "age_group\n",
      "Kid             92\n",
      "Teen            81\n",
      "Young Adult    442\n",
      "Adult          252\n",
      "Senior          24\n",
      "Name: count, dtype: int64\n"
     ]
    }
   ],
   "source": [
    "age_group_counts = df['age_group'].value_counts().sort_index()\n",
    "print(age_group_counts)"
   ]
  },
  {
   "cell_type": "code",
   "execution_count": 88,
   "id": "aeb9d6cd-975b-4d01-91c0-f067db993ca4",
   "metadata": {},
   "outputs": [
    {
     "data": {
      "image/png": "[encoded data removed]",
      "text/plain": [
       "<Figure size 640x480 with 1 Axes>"
      ]
     },
     "metadata": {},
     "output_type": "display_data"
    }
   ],
   "source": [
    "ax = sns.countplot(df,x='age_group',hue='Survived',palette=['red','lightgreen'])\n",
    "for container in ax.containers:\n",
    "    ax.bar_label(container)\n",
    "plt.title('Survival Rate In Different Age Groups')\n",
    "plt.xlabel('Age Group')\n",
    "plt.show()"
   ]
  },
  {
   "cell_type": "markdown",
   "id": "a7457dae-b63a-40d3-bcba-c6b36d2bdf53",
   "metadata": {},
   "source": [
    "### Insight:\n",
    "  * Highest number of deaths were recorded in Age group of Young Adults ranging from 18-35"
   ]
  },
  {
   "cell_type": "code",
   "execution_count": 74,
   "id": "c49dfef5-8fe5-4259-97b6-f22582f2423b",
   "metadata": {},
   "outputs": [
    {
     "name": "stdout",
     "output_type": "stream",
     "text": [
      "Embarked\n",
      "C    55.62\n",
      "Q    39.74\n",
      "S    33.70\n",
      "Name: Survived, dtype: float64\n"
     ]
    }
   ],
   "source": [
    "SR_from_different_ports=round(df.groupby('Embarked')['Survived'].mean()*100,2)\n",
    "print(SR_from_different_ports)\n",
    "\n"
   ]
  },
  {
   "cell_type": "code",
   "execution_count": 76,
   "id": "34ce80c5-b0d6-491a-862f-30c221d703c4",
   "metadata": {},
   "outputs": [
    {
     "data": {
      "image/png": "[encoded data removed]",
      "text/plain": [
       "<Figure size 640x480 with 1 Axes>"
      ]
     },
     "metadata": {},
     "output_type": "display_data"
    }
   ],
   "source": [
    "ax = sns.countplot(df,x='Embarked',hue='Survived')\n",
    "for container in ax.containers:\n",
    "    ax.bar_label(container)\n",
    "plt.show()"
   ]
  },
  {
   "cell_type": "markdown",
   "id": "c0afbf1f-9919-4d7e-9475-d24a517c28bf",
   "metadata": {},
   "source": [
    "### Insight:\n",
    "  * Highest deaths recorded in Passengers boarded from Southampton port in England"
   ]
  },
  {
   "cell_type": "code",
   "execution_count": 79,
   "id": "c79c450b-9663-41da-9fe2-13ad4479ee68",
   "metadata": {},
   "outputs": [
    {
     "data": {
      "image/png": "[encoded data removed]",
      "text/plain": [
       "<Figure size 640x480 with 2 Axes>"
      ]
     },
     "metadata": {},
     "output_type": "display_data"
    }
   ],
   "source": [
    "# Create pivot table\n",
    "pivot = df.pivot_table(values='Survived', index='Sex', columns='Pclass', aggfunc='mean')\n",
    "\n",
    "# Plot heatmap\n",
    "sns.heatmap(pivot, annot=True, cmap='YlGnBu', fmt='.2f')\n",
    "plt.title('Survival Rate by Sex and Class')\n",
    "plt.show()\n"
   ]
  },
  {
   "cell_type": "markdown",
   "id": "777444c2-eb7f-4110-9c20-8f9322b397e2",
   "metadata": {},
   "source": [
    "### Insight:\n",
    "  * HeatMap shows Correlation between Sex and Class\n",
    "  * Shows a highest positive relation between females and 1st class it means females who were in 1st class survived more"
   ]
  }
 ],
 "metadata": {
  "kernelspec": {
   "display_name": "Python 3 (ipykernel)",
   "language": "python",
   "name": "python3"
  },
  "language_info": {
   "codemirror_mode": {
    "name": "ipython",
    "version": 3
   },
   "file_extension": ".py",
   "mimetype": "text/x-python",
   "name": "python",
   "nbconvert_exporter": "python",
   "pygments_lexer": "ipython3",
   "version": "3.13.6"
  }
 },
 "nbformat": 4,
 "nbformat_minor": 5
}
